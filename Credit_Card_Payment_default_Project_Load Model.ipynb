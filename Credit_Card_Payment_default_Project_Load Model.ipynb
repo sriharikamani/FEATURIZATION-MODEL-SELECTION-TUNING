{
 "cells": [
  {
   "cell_type": "markdown",
   "metadata": {},
   "source": [
    "# Project - Predicting Potential Credit Card Payment Defaulters                                                     "
   ]
  },
  {
   "cell_type": "markdown",
   "metadata": {},
   "source": [
    "### The purpose of this program is to prepare data readiness to make new predictions by retrieving model from the disk"
   ]
  },
  {
   "cell_type": "markdown",
   "metadata": {},
   "source": [
    "### The data columns that require to make new predictions are"
   ]
  },
  {
   "cell_type": "raw",
   "metadata": {},
   "source": [
    "Column Name         Notes\n",
    "-----------         -----\n",
    "Limit             : Customer Credit Limit\n",
    "Education\t      : Customer Education level (1 = Graduate school, 2 = University, 3 = High school, 4 = Others) \n",
    "Age               : Customer Age\n",
    "SEP_PYMT_STS\t  : Credit Bill Payment Status in September (-1 = pay duly, x = payment delay for x month)\n",
    "AUG_PYMT_STS\t  : Credit Bill Payment Status in August    (-1 = pay duly, x = payment delay for x month)\n",
    "JUL_PYMT_STS\t  : Credit Bill Payment Status in July      (-1 = pay duly, x = payment delay for x month)\n",
    "JUN_PYMT_STS\t  : Credit Bill Payment Status in June      (-1 = pay duly, x = payment delay for x month)\n",
    "MAY_PYMT_STS\t  : Credit Bill Payment Status in May       (-1 = pay duly, x = payment delay for x month)\n",
    "APR_PYMT_STS\t  : Credit Bill Payment Status in April     (-1 = pay duly, x = payment delay for x month)\n",
    "SEP_STMT\t      : Credit Bill Statement in September       \n",
    "AUG_STMT\t      : Credit Bill Statement in August \n",
    "JUL_STMT\t      : Credit Bill Statement in July\n",
    "JUN_STMT\t      : Credit Bill Statement in June\n",
    "MAY_STMT\t      : Credit Bill Statement in May\n",
    "APR_STMT\t      : Credit Bill Statement in April\n",
    "SEP_PAID\t      : Amout Paid in September  \n",
    "AUG_PAID\t      : Amout Paid in August\n",
    "JUL_PAID\t      : Amout Paid in July\n",
    "JUN_PAID\t      : Amout Paid in June\n",
    "MAY_PAID\t      : Amout Paid in May\n",
    "APR_PAID\t      : Amout Paid in April\n",
    "Default           : Will Default Next Month"
   ]
  },
  {
   "cell_type": "code",
   "execution_count": 51,
   "metadata": {},
   "outputs": [],
   "source": [
    "%matplotlib inline\n",
    "import numpy as np\n",
    "import pandas as pd\n",
    "import seaborn as sns\n",
    "sns.set(color_codes=True)\n",
    "import warnings\n",
    "warnings.filterwarnings('ignore')\n",
    "import matplotlib.pyplot as plt\n",
    "from matplotlib.ticker import MaxNLocator\n",
    "from sklearn.tree import DecisionTreeClassifier\n",
    "from sklearn import preprocessing\n",
    "from sklearn.model_selection import train_test_split\n",
    "from sklearn.metrics import accuracy_score\n",
    "from sklearn.metrics import confusion_matrix\n",
    "from sklearn.metrics import f1_score, roc_auc_score"
   ]
  },
  {
   "cell_type": "code",
   "execution_count": 52,
   "metadata": {},
   "outputs": [],
   "source": [
    "# Load the New Dataset\n",
    "sample = pd.read_csv(\"New_Dataset.csv\")"
   ]
  },
  {
   "cell_type": "code",
   "execution_count": 53,
   "metadata": {},
   "outputs": [
    {
     "data": {
      "text/plain": [
       "(249, 22)"
      ]
     },
     "execution_count": 53,
     "metadata": {},
     "output_type": "execute_result"
    }
   ],
   "source": [
    "sample.shape"
   ]
  },
  {
   "cell_type": "code",
   "execution_count": 54,
   "metadata": {},
   "outputs": [
    {
     "data": {
      "text/plain": [
       "Limit             int64\n",
       "Education         int64\n",
       "Age               int64\n",
       "SEP_PYMT_STS      int64\n",
       "AUG_PYMT_STS      int64\n",
       "JUL_PYMT_STS      int64\n",
       "JUN_PYMT_STS      int64\n",
       "MAY_PYMT_STS      int64\n",
       "APR_PYMT_STS      int64\n",
       "SEP_STMT          int64\n",
       "AUG_STMT          int64\n",
       "JUL_STMT          int64\n",
       "JUN_STMT          int64\n",
       "MAY_STMT          int64\n",
       "APR_STMT          int64\n",
       "SEP_PAID          int64\n",
       "AUG_PAID          int64\n",
       "JUL_PAID          int64\n",
       "JUN_PAID        float64\n",
       "MAY_PAID          int64\n",
       "APR_PAID          int64\n",
       "Default           int64\n",
       "dtype: object"
      ]
     },
     "execution_count": 54,
     "metadata": {},
     "output_type": "execute_result"
    }
   ],
   "source": [
    "sample.dtypes"
   ]
  },
  {
   "cell_type": "markdown",
   "metadata": {},
   "source": [
    "# Data readiness to make new predictions"
   ]
  },
  {
   "cell_type": "markdown",
   "metadata": {},
   "source": [
    "### Create new column to capture missing payment count (if any) in last 6 months for each customer"
   ]
  },
  {
   "cell_type": "code",
   "execution_count": 55,
   "metadata": {},
   "outputs": [],
   "source": [
    "# payment_miss_in_6_months = 0, customer not defaulted payment\n",
    "# no_payment_last_4_months > 0, meaning customer defaulted n times in last six months \n",
    "\n",
    "df = pd.DataFrame(sample[['SEP_PAID','AUG_PAID','JUL_PAID','JUN_PAID','MAY_PAID','APR_PAID']])\n",
    "Count = pd.DataFrame()\n",
    "Count = df.apply( lambda s : s.value_counts().get(0,0), axis=1)\n",
    "sample['payment_miss_in_6_months']   = Count\n",
    "del(df)\n",
    "del(Count)"
   ]
  },
  {
   "cell_type": "markdown",
   "metadata": {},
   "source": [
    "### Create new column to capture last four months continious defaulters data"
   ]
  },
  {
   "cell_type": "code",
   "execution_count": 56,
   "metadata": {},
   "outputs": [],
   "source": [
    "# no_payment_last_4_months = 0, customer not defaulted continiously for four months\n",
    "# no_payment_last_4_months = 1, meaning customer defaulted continiously for four months\n",
    "\n",
    "df = pd.DataFrame(sample[['SEP_PAID','AUG_PAID','JUL_PAID','JUN_PAID']])\n",
    "Count = pd.DataFrame()\n",
    "Count = df.apply( lambda s : s.value_counts().get(0,0), axis=1)\n",
    "sample['no_payment_last_4_months']   = Count\n",
    "del(df)\n",
    "del(Count)"
   ]
  },
  {
   "cell_type": "code",
   "execution_count": 57,
   "metadata": {},
   "outputs": [
    {
     "data": {
      "text/plain": [
       "(249, 24)"
      ]
     },
     "execution_count": 57,
     "metadata": {},
     "output_type": "execute_result"
    }
   ],
   "source": [
    "sample.shape"
   ]
  },
  {
   "cell_type": "code",
   "execution_count": 58,
   "metadata": {},
   "outputs": [],
   "source": [
    "sample.loc[sample['no_payment_last_4_months'] < 4, 'no_payment_last_4_months'] = 0\n",
    "sample.loc[sample['no_payment_last_4_months'] == 4, 'no_payment_last_4_months'] = 1"
   ]
  },
  {
   "cell_type": "code",
   "execution_count": 59,
   "metadata": {},
   "outputs": [
    {
     "data": {
      "text/plain": [
       "(249, 24)"
      ]
     },
     "execution_count": 59,
     "metadata": {},
     "output_type": "execute_result"
    }
   ],
   "source": [
    "sample.shape"
   ]
  },
  {
   "cell_type": "code",
   "execution_count": 60,
   "metadata": {},
   "outputs": [],
   "source": [
    "# change the sequence of the columns\n",
    "sample = sample[['Limit','Education','Age','SEP_PYMT_STS','AUG_PYMT_STS',\n",
    "                                       'JUL_PYMT_STS','JUN_PYMT_STS','MAY_PYMT_STS','APR_PYMT_STS', 'SEP_STMT','AUG_STMT',\n",
    "                                       'JUL_STMT','JUN_STMT','MAY_STMT','APR_STMT','SEP_PAID','AUG_PAID','JUL_PAID',\n",
    "                                       'JUN_PAID','MAY_PAID','APR_PAID','payment_miss_in_6_months','no_payment_last_4_months',\n",
    "                                       'Default']]"
   ]
  },
  {
   "cell_type": "code",
   "execution_count": 61,
   "metadata": {},
   "outputs": [
    {
     "data": {
      "text/plain": [
       "Limit                         int64\n",
       "Education                     int64\n",
       "Age                           int64\n",
       "SEP_PYMT_STS                  int64\n",
       "AUG_PYMT_STS                  int64\n",
       "JUL_PYMT_STS                  int64\n",
       "JUN_PYMT_STS                  int64\n",
       "MAY_PYMT_STS                  int64\n",
       "APR_PYMT_STS                  int64\n",
       "SEP_STMT                      int64\n",
       "AUG_STMT                      int64\n",
       "JUL_STMT                      int64\n",
       "JUN_STMT                      int64\n",
       "MAY_STMT                      int64\n",
       "APR_STMT                      int64\n",
       "SEP_PAID                      int64\n",
       "AUG_PAID                      int64\n",
       "JUL_PAID                      int64\n",
       "JUN_PAID                    float64\n",
       "MAY_PAID                      int64\n",
       "APR_PAID                      int64\n",
       "payment_miss_in_6_months      int64\n",
       "no_payment_last_4_months      int64\n",
       "Default                       int64\n",
       "dtype: object"
      ]
     },
     "execution_count": 61,
     "metadata": {},
     "output_type": "execute_result"
    }
   ],
   "source": [
    "sample.dtypes"
   ]
  },
  {
   "cell_type": "markdown",
   "metadata": {},
   "source": [
    "### break the sample data to predictor data and label "
   ]
  },
  {
   "cell_type": "code",
   "execution_count": 62,
   "metadata": {},
   "outputs": [],
   "source": [
    "sample_data,sample_label =sample.iloc[:,:-1],sample.iloc[:,-1]"
   ]
  },
  {
   "cell_type": "markdown",
   "metadata": {},
   "source": [
    "# End of Data readiness to make new predictions"
   ]
  },
  {
   "cell_type": "raw",
   "metadata": {},
   "source": []
  },
  {
   "cell_type": "markdown",
   "metadata": {},
   "source": [
    "# Load the Model from the drive"
   ]
  },
  {
   "cell_type": "code",
   "execution_count": 63,
   "metadata": {},
   "outputs": [],
   "source": [
    "from sklearn.externals import joblib\n",
    "filename = 'final_model_payment_defaulter.sav'"
   ]
  },
  {
   "cell_type": "code",
   "execution_count": 64,
   "metadata": {},
   "outputs": [],
   "source": [
    "loaded_model = joblib.load(filename)"
   ]
  },
  {
   "cell_type": "code",
   "execution_count": 65,
   "metadata": {},
   "outputs": [],
   "source": [
    "Accuracy = loaded_model.score(sample_data,sample_label)\n",
    "Accuracy = Accuracy*100\n",
    "Pred_proba = loaded_model.predict_proba(sample_data)[:, 1]\n",
    "roc_score  = roc_auc_score(sample_label, Pred_proba)"
   ]
  },
  {
   "cell_type": "code",
   "execution_count": 66,
   "metadata": {},
   "outputs": [
    {
     "name": "stdout",
     "output_type": "stream",
     "text": [
      "Accuracy : 81.12\n",
      "AUC      : 0.80\n"
     ]
    }
   ],
   "source": [
    "print(\"Accuracy : %.2f\" % Accuracy)\n",
    "print(\"AUC      : %.2f\" % roc_score)"
   ]
  },
  {
   "cell_type": "raw",
   "metadata": {},
   "source": []
  },
  {
   "cell_type": "markdown",
   "metadata": {},
   "source": [
    "# End of Program"
   ]
  }
 ],
 "metadata": {
  "kernelspec": {
   "display_name": "Python 2",
   "language": "python",
   "name": "python2"
  },
  "language_info": {
   "codemirror_mode": {
    "name": "ipython",
    "version": 2
   },
   "file_extension": ".py",
   "mimetype": "text/x-python",
   "name": "python",
   "nbconvert_exporter": "python",
   "pygments_lexer": "ipython2",
   "version": "2.7.15"
  }
 },
 "nbformat": 4,
 "nbformat_minor": 2
}
